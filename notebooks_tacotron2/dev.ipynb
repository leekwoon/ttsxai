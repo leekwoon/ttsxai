{
 "cells": [
  {
   "cell_type": "code",
   "execution_count": 7,
   "metadata": {},
   "outputs": [],
   "source": [
    "from ttsxai.utils import jupyter_utils\n",
    "# jupyter_utils.register_always_reload(packages=[\n",
    "#     # 'ttsxai.interfaces',\n",
    "#     # 'ttsxai.models.text2mel',\n",
    "#     # 'ttsxai.models.mel2wave',\n",
    "#     # 'ttsxai.utils',\n",
    "# ])\n",
    "jupyter_utils.register_always_reload(modules=[\n",
    "    # 'ttsxai.text',\n",
    "    # 'ttsxai.models.text2mel.tacotron2',\n",
    "    # 'ttsxai.models.text2mel.fastspeech2',\n",
    "    'ttsxai.probe.linear_probe',\n",
    "    # 'ttsxai.pitch_calculator',\n",
    "    # 'ttsxai.energy_calculator'\n",
    "])"
   ]
  },
  {
   "cell_type": "code",
   "execution_count": 1,
   "metadata": {},
   "outputs": [],
   "source": [
    "import os\n",
    "import numpy as np\n",
    "import pandas as pd\n",
    "import seaborn as sns\n",
    "from matplotlib import pyplot as plt\n",
    "\n",
    "import ttsxai\n"
   ]
  },
  {
   "cell_type": "code",
   "execution_count": 2,
   "metadata": {},
   "outputs": [],
   "source": [
    "# import os\n",
    "# import numpy as np\n",
    "# from tqdm import tqdm\n",
    "# from multiprocessing import Pool, cpu_count\n",
    "\n",
    "# import torch\n",
    "# import torch.nn as nn\n",
    "# import torch.nn.functional as F\n",
    "\n",
    "# import neurox.interpretation.utils as utils\n",
    "# import neurox.interpretation.ablation as ablation\n",
    "# import neurox.interpretation.linear_probe as linear_probe\n",
    "\n",
    "# from ttsxai.utils.utils import read_ljs_metadata"
   ]
  },
  {
   "cell_type": "code",
   "execution_count": 3,
   "metadata": {},
   "outputs": [],
   "source": [
    "save_dir = os.path.join(\n",
    "    ttsxai.PACKAGE_DIR, \n",
    "    \"data_df/LJSpeech/tacotron2_waveglow\"\n",
    ")"
   ]
  },
  {
   "cell_type": "code",
   "execution_count": 4,
   "metadata": {},
   "outputs": [],
   "source": [
    "df_train = pd.read_pickle(os.path.join(save_dir, 'activation_df_train.pkl'))\n",
    "df_val = pd.read_pickle(os.path.join(save_dir, 'activation_df_val.pkl'))"
   ]
  },
  {
   "cell_type": "code",
   "execution_count": 5,
   "metadata": {},
   "outputs": [],
   "source": [
    "X_train = np.stack(df_train['activations'].to_numpy()).astype(np.float32)\n",
    "y_train = df_train['duration'].to_numpy().astype(np.float32)\n",
    "X_val = np.stack(df_val['activations'].to_numpy()).astype(np.float32)\n",
    "y_val = df_val['duration'].to_numpy().astype(np.float32)\n",
    "\n",
    "# ignore invalid data\n",
    "X_train = X_train[y_train > 0]\n",
    "y_train = y_train[y_train > 0]\n",
    "X_val = X_val[y_val > 0]\n",
    "y_val = y_val[y_val > 0]\n",
    "\n",
    "# we predict log duration\n",
    "y_train = np.log(y_train)\n",
    "y_val = np.log(y_val)"
   ]
  },
  {
   "cell_type": "code",
   "execution_count": 8,
   "metadata": {},
   "outputs": [],
   "source": [
    "from ttsxai.probe.linear_probe import LinearProbe"
   ]
  },
  {
   "cell_type": "code",
   "execution_count": 9,
   "metadata": {},
   "outputs": [],
   "source": [
    "probe = LinearProbe(X_train.shape[1], 1)"
   ]
  },
  {
   "cell_type": "code",
   "execution_count": 73,
   "metadata": {},
   "outputs": [
    {
     "data": {
      "text/plain": [
       "dtype('float32')"
      ]
     },
     "execution_count": 73,
     "metadata": {},
     "output_type": "execute_result"
    }
   ],
   "source": [
    "X_train.dtype"
   ]
  },
  {
   "cell_type": "code",
   "execution_count": 7,
   "metadata": {},
   "outputs": [
    {
     "name": "stdout",
     "output_type": "stream",
     "text": [
      "Training regression probe\n",
      "Creating model...\n",
      "Number of training instances: 851403\n"
     ]
    },
    {
     "data": {
      "application/vnd.jupyter.widget-view+json": {
       "model_id": "2b2c9135d26a4c9b937399a7c3ca7088",
       "version_major": 2,
       "version_minor": 0
      },
      "text/plain": [
       "epoch [1/1]: 0it [00:00, ?it/s]"
      ]
     },
     "metadata": {},
     "output_type": "display_data"
    },
    {
     "name": "stdout",
     "output_type": "stream",
     "text": [
      "Epoch: [1/1], Loss: 0.0031\n"
     ]
    },
    {
     "data": {
      "application/vnd.jupyter.widget-view+json": {
       "model_id": "6ca3f2a0ffc14d02b4e9bec8ae9a213e",
       "version_major": 2,
       "version_minor": 0
      },
      "text/plain": [
       "Evaluating: 0it [00:00, ?it/s]"
      ]
     },
     "metadata": {},
     "output_type": "display_data"
    },
    {
     "name": "stdout",
     "output_type": "stream",
     "text": [
      "Score (mse) of the probe: 0.09\n",
      "[* train score] {'__OVERALL__': 0.08582296}\n"
     ]
    },
    {
     "ename": "NameError",
     "evalue": "name 'X_test' is not defined",
     "output_type": "error",
     "traceback": [
      "\u001b[0;31m---------------------------------------------------------------------------\u001b[0m",
      "\u001b[0;31mNameError\u001b[0m                                 Traceback (most recent call last)",
      "\u001b[0;32m/tmp/ipykernel_2955687/2243154007.py\u001b[0m in \u001b[0;36m<module>\u001b[0;34m\u001b[0m\n\u001b[1;32m      4\u001b[0m \u001b[0mscores_train\u001b[0m \u001b[0;34m=\u001b[0m \u001b[0mlinear_probe\u001b[0m\u001b[0;34m.\u001b[0m\u001b[0mevaluate_probe\u001b[0m\u001b[0;34m(\u001b[0m\u001b[0mprobe\u001b[0m\u001b[0;34m,\u001b[0m \u001b[0mX_train\u001b[0m\u001b[0;34m,\u001b[0m \u001b[0my_train\u001b[0m\u001b[0;34m,\u001b[0m \u001b[0mmetric\u001b[0m\u001b[0;34m=\u001b[0m\u001b[0;34m'mse'\u001b[0m\u001b[0;34m)\u001b[0m\u001b[0;34m\u001b[0m\u001b[0;34m\u001b[0m\u001b[0m\n\u001b[1;32m      5\u001b[0m \u001b[0mprint\u001b[0m\u001b[0;34m(\u001b[0m \u001b[0;34m'[* train score]'\u001b[0m\u001b[0;34m,\u001b[0m \u001b[0mscores_train\u001b[0m\u001b[0;34m)\u001b[0m\u001b[0;34m\u001b[0m\u001b[0;34m\u001b[0m\u001b[0m\n\u001b[0;32m----> 6\u001b[0;31m \u001b[0mscores_test\u001b[0m \u001b[0;34m=\u001b[0m \u001b[0mlinear_probe\u001b[0m\u001b[0;34m.\u001b[0m\u001b[0mevaluate_probe\u001b[0m\u001b[0;34m(\u001b[0m\u001b[0mprobe\u001b[0m\u001b[0;34m,\u001b[0m \u001b[0mX_test\u001b[0m\u001b[0;34m,\u001b[0m \u001b[0my_test\u001b[0m\u001b[0;34m,\u001b[0m \u001b[0mmetric\u001b[0m\u001b[0;34m=\u001b[0m\u001b[0;34m'mse'\u001b[0m\u001b[0;34m)\u001b[0m\u001b[0;34m\u001b[0m\u001b[0;34m\u001b[0m\u001b[0m\n\u001b[0m\u001b[1;32m      7\u001b[0m \u001b[0mprint\u001b[0m\u001b[0;34m(\u001b[0m \u001b[0;34m'[* test score]'\u001b[0m\u001b[0;34m,\u001b[0m \u001b[0mscores_test\u001b[0m\u001b[0;34m)\u001b[0m\u001b[0;34m\u001b[0m\u001b[0;34m\u001b[0m\u001b[0m\n\u001b[1;32m      8\u001b[0m \u001b[0;34m\u001b[0m\u001b[0m\n",
      "\u001b[0;31mNameError\u001b[0m: name 'X_test' is not defined"
     ]
    }
   ],
   "source": [
    "probe = linear_probe.train_linear_regression_probe(\n",
    "    X_train, y_train, lambda_l1=0.001, lambda_l2=0.001, num_epochs=1, probe=probe)\n",
    "\n",
    "scores_train = linear_probe.evaluate_probe(probe, X_train, y_train, metric='mse')\n",
    "print( '[* train score]', scores_train)\n",
    "scores_test = linear_probe.evaluate_probe(probe, X_test, y_test, metric='mse')\n",
    "print( '[* test score]', scores_test)\n",
    "\n",
    "# scores['train'].append(scores_train['__OVERALL__'])\n",
    "# scores['test'].append(scores_test['__OVERALL__'])"
   ]
  },
  {
   "cell_type": "code",
   "execution_count": 19,
   "metadata": {},
   "outputs": [
    {
     "data": {
      "text/plain": [
       "7641"
      ]
     },
     "execution_count": 19,
     "metadata": {},
     "output_type": "execute_result"
    }
   ],
   "source": [
    "np.sum(Y_train == 0)"
   ]
  },
  {
   "cell_type": "code",
   "execution_count": 14,
   "metadata": {},
   "outputs": [
    {
     "data": {
      "text/plain": [
       "(859044,)"
      ]
     },
     "execution_count": 14,
     "metadata": {},
     "output_type": "execute_result"
    }
   ],
   "source": [
    "X_train.shape"
   ]
  }
 ],
 "metadata": {
  "kernelspec": {
   "display_name": "ttsxai",
   "language": "python",
   "name": "python3"
  },
  "language_info": {
   "codemirror_mode": {
    "name": "ipython",
    "version": 3
   },
   "file_extension": ".py",
   "mimetype": "text/x-python",
   "name": "python",
   "nbconvert_exporter": "python",
   "pygments_lexer": "ipython3",
   "version": "3.7.13"
  }
 },
 "nbformat": 4,
 "nbformat_minor": 2
}
