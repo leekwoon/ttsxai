{
 "cells": [
  {
   "cell_type": "code",
   "execution_count": 11,
   "metadata": {},
   "outputs": [],
   "source": [
    "from ttsxai.utils import jupyter_utils\n",
    "# jupyter_utils.register_always_reload(packages=[\n",
    "#     'ttsxai.interfaces',\n",
    "#     # 'ttsxai.models.text2mel',\n",
    "#     # 'ttsxai.models.mel2wave',\n",
    "#     # 'ttsxai.utils',\n",
    "# ])\n",
    "jupyter_utils.register_always_reload(modules=[\n",
    "    'ttsxai.manifold',\n",
    "    # 'ttsxai.models.text2mel.tacotron2',\n",
    "    # 'ttsxai.models.text2mel.fastspeech2',\n",
    "    # 'ttsxai.utils.plot_utils',\n",
    "    # 'ttsxai.pitch_calculator',\n",
    "    # 'ttsxai.energy_calculator'\n",
    "])"
   ]
  },
  {
   "cell_type": "code",
   "execution_count": 2,
   "metadata": {},
   "outputs": [],
   "source": [
    "import os\n",
    "import numpy as np\n",
    "from matplotlib import pyplot as plt\n",
    "\n",
    "from tacotron2.text import _id_to_symbol, _symbol_to_id\n",
    "\n",
    "data_analysis_dir = \"/nas/users/dahye/kw/tts/ttsxai/data_analysis/analyze_prosody\"\n",
    "data = np.load(os.path.join(data_analysis_dir, 'phone_data.npz'), allow_pickle=True)"
   ]
  },
  {
   "cell_type": "code",
   "execution_count": 3,
   "metadata": {},
   "outputs": [],
   "source": [
    "phone_data = {}\n",
    "for token, phone_data_item in data.items():\n",
    "    phone_data[token] = phone_data_item.item()"
   ]
  },
  {
   "cell_type": "code",
   "execution_count": 35,
   "metadata": {},
   "outputs": [],
   "source": [
    "from ttsxai.manifold import Manifold"
   ]
  },
  {
   "cell_type": "code",
   "execution_count": 39,
   "metadata": {},
   "outputs": [
    {
     "name": "stdout",
     "output_type": "stream",
     "text": [
      "118 @M 23807\n",
      "WARNING: 50 negative diff_squares found and set to zero, min_diff_square= tensor(-2.2737e-13, dtype=torch.float64)\n",
      "97 @ER0 16788\n",
      "WARNING: 83 negative diff_squares found and set to zero, min_diff_square= tensor(-2.2737e-13, dtype=torch.float64)\n",
      "113 @IY1 13916\n",
      "WARNING: 95 negative diff_squares found and set to zero, min_diff_square= tensor(-2.2737e-13, dtype=torch.float64)\n",
      "119 @N 68413\n",
      "WARNING: 18 negative diff_squares found and set to zero, min_diff_square= tensor(-1.1369e-13, dtype=torch.float64)\n",
      "73 @AH0 78316\n",
      "WARNING: 40 negative diff_squares found and set to zero, min_diff_square= tensor(-2.2737e-13, dtype=torch.float64)\n",
      "11   209112\n",
      "WARNING: 18 negative diff_squares found and set to zero, min_diff_square= tensor(-2.2737e-13, dtype=torch.float64)\n",
      "78 @AO1 13532\n",
      "WARNING: 99 negative diff_squares found and set to zero, min_diff_square= tensor(-2.2737e-13, dtype=torch.float64)\n",
      "146 @Z 28036\n",
      "WARNING: 143 negative diff_squares found and set to zero, min_diff_square= tensor(-3.4106e-13, dtype=torch.float64)\n",
      "144 @W 20557\n",
      "WARNING: 67 negative diff_squares found and set to zero, min_diff_square= tensor(-2.2737e-13, dtype=torch.float64)\n",
      "77 @AO0 1493\n",
      "WARNING: 30 negative diff_squares found and set to zero, min_diff_square= tensor(-1.1369e-13, dtype=torch.float64)\n",
      "117 @L 32919\n",
      "WARNING: 80 negative diff_squares found and set to zero, min_diff_square= tensor(-2.2737e-13, dtype=torch.float64)\n",
      "90 @D 43546\n",
      "WARNING: 21 negative diff_squares found and set to zero, min_diff_square= tensor(-1.1369e-13, dtype=torch.float64)\n",
      "105 @G 5978\n",
      "WARNING: 61 negative diff_squares found and set to zero, min_diff_square= tensor(-2.2737e-13, dtype=torch.float64)\n",
      "102 @EY1 16611\n",
      "WARNING: 117 negative diff_squares found and set to zero, min_diff_square= tensor(-1.1369e-13, dtype=torch.float64)\n",
      "143 @V 19607\n",
      "WARNING: 76 negative diff_squares found and set to zero, min_diff_square= tensor(-2.2737e-13, dtype=torch.float64)\n",
      "70 @AE1 19781\n",
      "WARNING: 97 negative diff_squares found and set to zero, min_diff_square= tensor(-2.2737e-13, dtype=torch.float64)\n",
      "106 @HH 13811\n",
      "WARNING: 107 negative diff_squares found and set to zero, min_diff_square= tensor(-2.2737e-13, dtype=torch.float64)\n",
      "98 @ER1 6766\n",
      "WARNING: 121 negative diff_squares found and set to zero, min_diff_square= tensor(-2.2737e-13, dtype=torch.float64)\n",
      "129 @P 20263\n",
      "WARNING: 52 negative diff_squares found and set to zero, min_diff_square= tensor(-2.2737e-13, dtype=torch.float64)\n",
      "109 @IH1 25368\n",
      "WARNING: 53 negative diff_squares found and set to zero, min_diff_square= tensor(-2.2737e-13, dtype=torch.float64)\n",
      "145 @Y 4423\n",
      "WARNING: 49 negative diff_squares found and set to zero, min_diff_square= tensor(-2.2737e-13, dtype=torch.float64)\n",
      "91 @DH 29317\n",
      "WARNING: 55 negative diff_squares found and set to zero, min_diff_square= tensor(-2.2737e-13, dtype=torch.float64)\n",
      "133 @T 65830\n",
      "WARNING: 24 negative diff_squares found and set to zero, min_diff_square= tensor(-2.2737e-13, dtype=torch.float64)\n",
      "116 @K 27897\n",
      "WARNING: 29 negative diff_squares found and set to zero, min_diff_square= tensor(-2.2737e-13, dtype=torch.float64)\n",
      "141 @UW1 13672\n",
      "WARNING: 67 negative diff_squares found and set to zero, min_diff_square= tensor(-1.1369e-13, dtype=torch.float64)\n",
      "79 @AO2 978\n",
      "WARNING: 42 negative diff_squares found and set to zero, min_diff_square= tensor(-2.2737e-13, dtype=torch.float64)\n",
      "66 @AA1 15576\n",
      "WARNING: 100 negative diff_squares found and set to zero, min_diff_square= tensor(-1.7053e-13, dtype=torch.float64)\n",
      "108 @IH0 25787\n",
      "WARNING: 64 negative diff_squares found and set to zero, min_diff_square= tensor(-1.1369e-13, dtype=torch.float64)\n",
      "130 @R 40369\n",
      "WARNING: 78 negative diff_squares found and set to zero, min_diff_square= tensor(-3.4106e-13, dtype=torch.float64)\n",
      "87 @AY2 1445\n",
      "WARNING: 101 negative diff_squares found and set to zero, min_diff_square= tensor(-1.1369e-13, dtype=torch.float64)\n",
      "120 @NG 7240\n",
      "WARNING: 47 negative diff_squares found and set to zero, min_diff_square= tensor(-1.1369e-13, dtype=torch.float64)\n",
      "7 . 10008\n",
      "WARNING: 328 negative diff_squares found and set to zero, min_diff_square= tensor(-4.5475e-13, dtype=torch.float64)\n",
      "115 @JH 4842\n",
      "WARNING: 62 negative diff_squares found and set to zero, min_diff_square= tensor(-2.2737e-13, dtype=torch.float64)\n",
      "74 @AH1 19635\n",
      "WARNING: 53 negative diff_squares found and set to zero, min_diff_square= tensor(-2.2737e-13, dtype=torch.float64)\n",
      "131 @S 43528\n",
      "WARNING: 125 negative diff_squares found and set to zero, min_diff_square= tensor(-2.2737e-13, dtype=torch.float64)\n",
      "123 @OW1 8144\n",
      "WARNING: 113 negative diff_squares found and set to zero, min_diff_square= tensor(-1.7053e-13, dtype=torch.float64)\n",
      "94 @EH1 23225\n",
      "WARNING: 71 negative diff_squares found and set to zero, min_diff_square= tensor(-2.2737e-13, dtype=torch.float64)\n",
      "112 @IY0 13127\n",
      "WARNING: 83 negative diff_squares found and set to zero, min_diff_square= tensor(-1.1369e-13, dtype=torch.float64)\n",
      "89 @CH 4717\n",
      "WARNING: 64 negative diff_squares found and set to zero, min_diff_square= tensor(-2.2737e-13, dtype=torch.float64)\n",
      "132 @SH 7982\n",
      "WARNING: 156 negative diff_squares found and set to zero, min_diff_square= tensor(-4.5475e-13, dtype=torch.float64)\n",
      "67 @AA2 994\n",
      "WARNING: 42 negative diff_squares found and set to zero, min_diff_square= tensor(-1.1369e-13, dtype=torch.float64)\n",
      "82 @AW1 3821\n",
      "WARNING: 170 negative diff_squares found and set to zero, min_diff_square= tensor(-2.2737e-13, dtype=torch.float64)\n",
      "6 , 15150\n",
      "WARNING: 213 negative diff_squares found and set to zero, min_diff_square= tensor(-3.4106e-13, dtype=torch.float64)\n",
      "104 @F 16967\n",
      "WARNING: 104 negative diff_squares found and set to zero, min_diff_square= tensor(-4.5475e-13, dtype=torch.float64)\n",
      "95 @EH2 2253\n",
      "WARNING: 34 negative diff_squares found and set to zero, min_diff_square= tensor(-5.6843e-14, dtype=torch.float64)\n",
      "88 @B 15611\n",
      "WARNING: 66 negative diff_squares found and set to zero, min_diff_square= tensor(-4.5475e-13, dtype=torch.float64)\n",
      "86 @AY1 10499\n",
      "WARNING: 177 negative diff_squares found and set to zero, min_diff_square= tensor(-2.2737e-13, dtype=torch.float64)\n",
      "114 @IY2 854\n",
      "WARNING: 19 negative diff_squares found and set to zero, min_diff_square= tensor(-1.1369e-13, dtype=torch.float64)\n",
      "137 @UH1 2655\n",
      "WARNING: 54 negative diff_squares found and set to zero, min_diff_square= tensor(-1.1369e-13, dtype=torch.float64)\n",
      "110 @IH2 2978\n",
      "WARNING: 54 negative diff_squares found and set to zero, min_diff_square= tensor(-1.1369e-13, dtype=torch.float64)\n",
      "122 @OW0 1589\n",
      "WARNING: 79 negative diff_squares found and set to zero, min_diff_square= tensor(-1.1369e-13, dtype=torch.float64)\n",
      "75 @AH2 429\n",
      "WARNING: 8 negative diff_squares found and set to zero, min_diff_square= tensor(-1.1369e-13, dtype=torch.float64)\n",
      "134 @TH 3565\n",
      "WARNING: 62 negative diff_squares found and set to zero, min_diff_square= tensor(-2.2737e-13, dtype=torch.float64)\n",
      "127 @OY1 796\n",
      "WARNING: 61 negative diff_squares found and set to zero, min_diff_square= tensor(-2.2737e-13, dtype=torch.float64)\n",
      "85 @AY0 380\n",
      "WARNING: 17 negative diff_squares found and set to zero, min_diff_square= tensor(-2.2737e-13, dtype=torch.float64)\n",
      "101 @EY0 707\n",
      "WARNING: 32 negative diff_squares found and set to zero, min_diff_square= tensor(-1.1369e-13, dtype=torch.float64)\n",
      "136 @UH0 36\n",
      "147 @ZH 612\n",
      "WARNING: 48 negative diff_squares found and set to zero, min_diff_square= tensor(-2.2737e-13, dtype=torch.float64)\n",
      "65 @AA0 324\n",
      "WARNING: 24 negative diff_squares found and set to zero, min_diff_square= tensor(-1.1369e-13, dtype=torch.float64)\n",
      "103 @EY2 1570\n",
      "WARNING: 61 negative diff_squares found and set to zero, min_diff_square= tensor(-1.1369e-13, dtype=torch.float64)\n",
      "124 @OW2 595\n",
      "WARNING: 29 negative diff_squares found and set to zero, min_diff_square= tensor(-1.1369e-13, dtype=torch.float64)\n",
      "142 @UW2 608\n",
      "WARNING: 29 negative diff_squares found and set to zero, min_diff_square= tensor(-1.1369e-13, dtype=torch.float64)\n",
      "83 @AW2 406\n",
      "WARNING: 37 negative diff_squares found and set to zero, min_diff_square= tensor(-1.1369e-13, dtype=torch.float64)\n",
      "9 ; 727\n",
      "WARNING: 89 negative diff_squares found and set to zero, min_diff_square= tensor(-4.5475e-13, dtype=torch.float64)\n",
      "71 @AE2 1207\n",
      "WARNING: 48 negative diff_squares found and set to zero, min_diff_square= tensor(-8.5265e-14, dtype=torch.float64)\n",
      "140 @UW0 875\n",
      "WARNING: 29 negative diff_squares found and set to zero, min_diff_square= tensor(-1.7053e-13, dtype=torch.float64)\n",
      "3 ' 236\n",
      "WARNING: 12 negative diff_squares found and set to zero, min_diff_square= tensor(-1.1369e-13, dtype=torch.float64)\n",
      "93 @EH0 900\n",
      "WARNING: 23 negative diff_squares found and set to zero, min_diff_square= tensor(-1.1369e-13, dtype=torch.float64)\n",
      "4 ( 167\n",
      "WARNING: 1 negative diff_squares found and set to zero, min_diff_square= tensor(-1.1369e-13, dtype=torch.float64)\n",
      "5 ) 167\n",
      "WARNING: 13 negative diff_squares found and set to zero, min_diff_square= tensor(-2.2737e-13, dtype=torch.float64)\n",
      "8 : 177\n",
      "WARNING: 24 negative diff_squares found and set to zero, min_diff_square= tensor(-2.2737e-13, dtype=torch.float64)\n",
      "69 @AE0 509\n",
      "WARNING: 10 negative diff_squares found and set to zero, min_diff_square= tensor(-1.1369e-13, dtype=torch.float64)\n",
      "1 - 277\n",
      "WARNING: 23 negative diff_squares found and set to zero, min_diff_square= tensor(-5.6843e-14, dtype=torch.float64)\n",
      "138 @UH2 120\n",
      "WARNING: 9 negative diff_squares found and set to zero, min_diff_square= tensor(-5.6843e-14, dtype=torch.float64)\n",
      "10 ? 76\n",
      "WARNING: 9 negative diff_squares found and set to zero, min_diff_square= tensor(-1.1369e-13, dtype=torch.float64)\n",
      "99 @ER2 169\n",
      "WARNING: 9 negative diff_squares found and set to zero, min_diff_square= tensor(-2.2737e-13, dtype=torch.float64)\n",
      "128 @OY2 49\n",
      "81 @AW0 39\n",
      "126 @OY0 8\n",
      "WARNING: 1 negative diff_squares found and set to zero, min_diff_square= tensor(-5.6843e-14, dtype=torch.float64)\n",
      "2 ! 46\n",
      "WARNING: 3 negative diff_squares found and set to zero, min_diff_square= tensor(-1.1369e-13, dtype=torch.float64)\n"
     ]
    }
   ],
   "source": [
    "manifold_dict = {}\n",
    "for token in phone_data.keys():\n",
    "    # token = int(token)\n",
    "    print(token, _id_to_symbol[int(token)], len(phone_data[token]['duration']))\n",
    "    manifold = Manifold(k=3, score_type='realism')\n",
    "    feats_real = np.array(phone_data[token]['activations'][:2000])\n",
    "    manifold.compute_manifold(feats_real)\n",
    "    manifold_dict[token] = manifold"
   ]
  },
  {
   "cell_type": "code",
   "execution_count": 40,
   "metadata": {},
   "outputs": [],
   "source": [
    "import os\n",
    "import numpy as np\n",
    "from tqdm import tqdm\n",
    "from multiprocessing import Pool, cpu_count\n",
    "\n",
    "import torch\n",
    "import torch.nn as nn\n",
    "import torch.nn.functional as F\n",
    "\n",
    "import neurox.interpretation.utils as utils\n",
    "import neurox.interpretation.ablation as ablation\n",
    "import neurox.interpretation.linear_probe as linear_probe\n",
    "\n",
    "from ttsxai.utils.utils import read_ljs_metadata\n",
    "\n",
    "\n",
    "log_dir = '/nas/users/dahye/kw/tts/ttsxai/logs/probe_tacotron2_duration'\n",
    "data_activation_dir = \"/nas/users/dahye/kw/tts/ttsxai/data_activation/LJSpeech/tacotron2_waveglow\"\n"
   ]
  },
  {
   "cell_type": "code",
   "execution_count": 42,
   "metadata": {},
   "outputs": [
    {
     "name": "stdout",
     "output_type": "stream",
     "text": [
      "WARNING:tensorflow:\n",
      "The TensorFlow contrib module will not be included in TensorFlow 2.0.\n",
      "For more information, please see:\n",
      "  * https://github.com/tensorflow/community/blob/master/rfcs/20180907-contrib-sunset.md\n",
      "  * https://github.com/tensorflow/addons\n",
      "  * https://github.com/tensorflow/io (for I/O related ops)\n",
      "If you depend on functionality not listed there, please file an issue.\n",
      "\n"
     ]
    },
    {
     "name": "stderr",
     "output_type": "stream",
     "text": [
      "/nas/users/dahye/kw/tts/ttsxai/src/waveglow/glow.py:74: UserWarning: torch.qr is deprecated in favor of torch.linalg.qr and will be removed in a future PyTorch release.\n",
      "The boolean parameter 'some' has been replaced with a string parameter 'mode'.\n",
      "Q, R = torch.qr(A, some)\n",
      "should be replaced with\n",
      "Q, R = torch.linalg.qr(A, 'reduced' if some else 'complete') (Triggered internally at ../aten/src/ATen/native/BatchLinearAlgebra.cpp:2349.)\n",
      "  W = torch.qr(torch.FloatTensor(c, c).normal_())[0]\n",
      "/nas/users/dahye/kw/tts/ttsxai/src/tacotron2/stft.py:67: FutureWarning: Pass size=1024 as keyword args. From version 0.10 passing these as positional arguments will result in an error\n",
      "  fft_window = pad_center(fft_window, filter_length)\n"
     ]
    }
   ],
   "source": [
    "import IPython.display as ipd\n",
    "from matplotlib import pyplot as plt\n",
    "\n",
    "import torch\n",
    "\n",
    "from ttsxai.utils.utils import read_ljs_metadata\n",
    "from ttsxai.utils import plot_utils\n",
    "from ttsxai.interfaces.tts_interface import TTSInterface, get_text2mel, get_mel2wave\n",
    "\n",
    "device = torch.device(\"cuda\" if torch.cuda.is_available() else \"cpu\")\n",
    "\n",
    "data_dir = '/nas/users/dahye/kw/tts/ttsxai/data/LJSpeech/metadata.csv'\n",
    "# text_dict = read_ljs_metafile(data_dir)\n",
    "text_dict = read_ljs_metadata(mode='train')\n",
    "\n",
    "text2mel = get_text2mel('tacotron2', device)\n",
    "mel2wave = get_mel2wave('waveglow', device)"
   ]
  },
  {
   "cell_type": "code",
   "execution_count": 43,
   "metadata": {},
   "outputs": [
    {
     "name": "stdout",
     "output_type": "stream",
     "text": [
      "(80, 168)\n"
     ]
    },
    {
     "name": "stderr",
     "output_type": "stream",
     "text": [
      "/nas/users/dahye/kw/tts/ttsxai/src/tacotron2/audio_processing.py:50: FutureWarning: Pass size=1024 as keyword args. From version 0.10 passing these as positional arguments will result in an error\n",
      "  win_sq = librosa_util.pad_center(win_sq, n_fft)\n"
     ]
    },
    {
     "data": {
      "text/html": [
       "\n",
       "                <audio  controls=\"controls\" >\n",
       "                    <source src=\"data:audio/wav;base64,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\" type=\"audio/wav\" />\n",
       "                    Your browser does not support the audio element.\n",
       "                </audio>\n",
       "              "
      ],
      "text/plain": [
       "<IPython.lib.display.Audio object>"
      ]
     },
     "execution_count": 43,
     "metadata": {},
     "output_type": "execute_result"
    }
   ],
   "source": [
    "tts = TTSInterface(\n",
    "    device=device,\n",
    "    text2mel=text2mel,\n",
    "    mel2wave=mel2wave \n",
    ").to(device)\n",
    "\n",
    "text = text_dict['LJ001-0002']\n",
    "output_dict = tts.forward(text)\n",
    "wave = output_dict['wave']\n",
    "\n",
    "ipd.Audio(wave, rate=tts.sampling_rate)"
   ]
  },
  {
   "cell_type": "code",
   "execution_count": 44,
   "metadata": {},
   "outputs": [],
   "source": [
    "X_test = np.concatenate(list(output_dict['activations'].values()), axis=1)"
   ]
  },
  {
   "cell_type": "code",
   "execution_count": 45,
   "metadata": {},
   "outputs": [
    {
     "data": {
      "text/plain": [
       "<All keys matched successfully>"
      ]
     },
     "execution_count": 45,
     "metadata": {},
     "output_type": "execute_result"
    }
   ],
   "source": [
    "# load pre-trained probe\n",
    "probe = linear_probe.LinearProbe(X_test.shape[1], 1)\n",
    "probe.load_state_dict(\n",
    "    torch.load(os.path.join(log_dir, 'models', 'probe.pth')))"
   ]
  },
  {
   "cell_type": "code",
   "execution_count": 53,
   "metadata": {},
   "outputs": [
    {
     "data": {
      "text/plain": [
       "7"
      ]
     },
     "execution_count": 53,
     "metadata": {},
     "output_type": "execute_result"
    }
   ],
   "source": [
    "output_dict['token'][26]"
   ]
  },
  {
   "cell_type": "code",
   "execution_count": 54,
   "metadata": {},
   "outputs": [
    {
     "data": {
      "text/plain": [
       "10008"
      ]
     },
     "execution_count": 54,
     "metadata": {},
     "output_type": "execute_result"
    }
   ],
   "source": [
    "len(phone_data['7']['duration'])"
   ]
  },
  {
   "cell_type": "code",
   "execution_count": 52,
   "metadata": {},
   "outputs": [
    {
     "data": {
      "text/plain": [
       "(27, 2048)"
      ]
     },
     "execution_count": 52,
     "metadata": {},
     "output_type": "execute_result"
    }
   ],
   "source": [
    "X_test.shape"
   ]
  },
  {
   "cell_type": "code",
   "execution_count": 58,
   "metadata": {},
   "outputs": [
    {
     "data": {
      "text/plain": [
       "<ttsxai.manifold.Manifold at 0x7fc46f6e08d0>"
      ]
     },
     "execution_count": 58,
     "metadata": {},
     "output_type": "execute_result"
    }
   ],
   "source": [
    "manifold_dict['7']"
   ]
  },
  {
   "cell_type": "code",
   "execution_count": 65,
   "metadata": {},
   "outputs": [
    {
     "name": "stdout",
     "output_type": "stream",
     "text": [
      "tensor([[21.9276]], grad_fn=<ExpBackward0>) [3142428.8278335]\n",
      "None\n",
      "tensor([[24.1691]], grad_fn=<ExpBackward0>) [47.03975475]\n",
      "None\n",
      "tensor([[26.6399]], grad_fn=<ExpBackward0>) [23.51999529]\n",
      "None\n",
      "tensor([[29.3632]], grad_fn=<ExpBackward0>) [15.6800231]\n",
      "None\n",
      "tensor([[32.3649]], grad_fn=<ExpBackward0>) [11.76002708]\n",
      "None\n",
      "tensor([[35.6734]], grad_fn=<ExpBackward0>) [9.40802639]\n",
      "None\n",
      "tensor([[39.3202]], grad_fn=<ExpBackward0>) [7.8400246]\n",
      "None\n",
      "tensor([[43.3398]], grad_fn=<ExpBackward0>) [6.72002269]\n",
      "None\n",
      "tensor([[47.7702]], grad_fn=<ExpBackward0>) [5.88002091]\n",
      "None\n",
      "tensor([[52.6536]], grad_fn=<ExpBackward0>) [5.22668597]\n",
      "None\n",
      "tensor([[58.0362]], grad_fn=<ExpBackward0>) [4.70401797]\n",
      "None\n",
      "tensor([[63.9691]], grad_fn=<ExpBackward0>) [4.27638042]\n",
      "None\n",
      "tensor([[70.5084]], grad_fn=<ExpBackward0>) [3.92001569]\n",
      "None\n",
      "tensor([[77.7163]], grad_fn=<ExpBackward0>) [3.61847626]\n",
      "None\n",
      "tensor([[85.6609]], grad_fn=<ExpBackward0>) [3.36001386]\n",
      "None\n",
      "tensor([[94.4178]], grad_fn=<ExpBackward0>) [3.13601309]\n",
      "None\n",
      "tensor([[104.0698]], grad_fn=<ExpBackward0>) [2.94001238]\n",
      "None\n",
      "tensor([[114.7085]], grad_fn=<ExpBackward0>) [2.76707058]\n",
      "None\n",
      "tensor([[-0.0008,  0.0031, -0.0010,  ...,  0.0853,  0.5609, -0.0432]])\n"
     ]
    }
   ],
   "source": [
    "idx = 26\n",
    "factor = 5\n",
    "scale = 0.1\n",
    "x = torch.tensor(X_test[idx][None], dtype=torch.float32)\n",
    "# layer_k_X_test = ablation.filter_activations_by_layers(X_test, [3], 4)\n",
    "# x = torch.tensor(layer_k_X_test[idx][None], dtype=torch.float32)\n",
    "# x = torch.tensor(X, dtype=torch.float32)\n",
    "init_v = probe(x).squeeze()\n",
    "\n",
    "manifold = manifold_dict[str(output_dict['token'][idx])]\n",
    "\n",
    "for _ in range(100):\n",
    "    print(print(torch.exp(probe(x)), manifold.score(x.numpy())))\n",
    "    with torch.enable_grad():\n",
    "        x.requires_grad_()\n",
    "\n",
    "        duration = probe(x).squeeze()\n",
    "           \n",
    "        # print(duration)\n",
    "        grad = torch.autograd.grad(\n",
    "            [duration], \n",
    "            [x]\n",
    "        )[0]\n",
    "\n",
    "        x = x.detach()\n",
    "    if factor > 1:\n",
    "        x = x + scale * grad\n",
    "        if duration > init_v + np.log(factor):\n",
    "            break\n",
    "    else:\n",
    "        x = x - scale * grad\n",
    "        if duration < init_v + np.log(factor):\n",
    "            break\n",
    "\n",
    "    # if duration \n",
    "    # print(torch.exp(probe(x)), manifold.score(x.numpy()))\n",
    "print(x)"
   ]
  },
  {
   "cell_type": "code",
   "execution_count": 62,
   "metadata": {},
   "outputs": [
    {
     "data": {
      "text/plain": [
       "array([[-0.00082307,  0.0031323 , -0.00103865, ...,  0.08529945,\n",
       "         0.5608754 , -0.0431802 ]], dtype=float32)"
      ]
     },
     "execution_count": 62,
     "metadata": {},
     "output_type": "execute_result"
    }
   ],
   "source": [
    "x.numpy()"
   ]
  },
  {
   "cell_type": "code",
   "execution_count": 63,
   "metadata": {},
   "outputs": [
    {
     "data": {
      "text/plain": [
       "array([2.61334453])"
      ]
     },
     "execution_count": 63,
     "metadata": {},
     "output_type": "execute_result"
    }
   ],
   "source": [
    "manifold.score(x.numpy())"
   ]
  },
  {
   "cell_type": "code",
   "execution_count": null,
   "metadata": {},
   "outputs": [],
   "source": []
  },
  {
   "cell_type": "markdown",
   "metadata": {},
   "source": [
    "# train flow"
   ]
  },
  {
   "cell_type": "code",
   "execution_count": 66,
   "metadata": {},
   "outputs": [],
   "source": [
    "# some imports and plot definitions\n",
    "\n",
    "import torch\n",
    "import numpy as np\n",
    "import scipy\n",
    "import os\n",
    "from tqdm import tqdm\n",
    "from scipy.optimize import NonlinearConstraint\n",
    "\n",
    "import torch.optim as optim\n",
    "import torch.nn as nn\n",
    "\n",
    "import matplotlib\n",
    "from matplotlib import pyplot as plt\n",
    "from matplotlib import rc\n",
    "\n",
    "rc('text', usetex=True)\n",
    "plt.rc('font', family='serif')\n",
    "\n",
    "plt.rcParams.update({\n",
    "    \"text.usetex\": False,\n",
    "    \"font.family\": \"serif\",\n",
    "    \"font.serif\": [\"Nimbus Roman\"],\n",
    "    \"mathtext.fontset\": \"cm\",\n",
    "    \"font.size\": 30,\n",
    "})\n",
    "\n",
    "label_font_size = 32\n",
    "title_font_size = 32\n",
    "\n",
    "# make directories\n",
    "directories = [\"models\", \"plots\", \"results\"]\n",
    "for d in directories:\n",
    "    if not os.path.exists(d):\n",
    "        os.makedirs(d)"
   ]
  },
  {
   "cell_type": "code",
   "execution_count": 75,
   "metadata": {},
   "outputs": [],
   "source": [
    "# GPU 사용 가능 여부 확인 및 device 설정\n",
    "device = torch.device(\"cuda\" if torch.cuda.is_available() else \"cpu\")\n",
    "# device = torch.device(\"cpu\")"
   ]
  },
  {
   "cell_type": "code",
   "execution_count": 76,
   "metadata": {},
   "outputs": [],
   "source": [
    "# definition of latent distribution\n",
    "latent_distr = torch.distributions.multivariate_normal.MultivariateNormal(torch.zeros(2048, device=device), torch.eye(2048, device=device))"
   ]
  },
  {
   "cell_type": "code",
   "execution_count": 77,
   "metadata": {},
   "outputs": [],
   "source": [
    "# definition of the normalizing flow\n",
    "\n",
    "nets = lambda: nn.Sequential(nn.Linear(2048, 256), nn.LeakyReLU(), \n",
    "                             nn.Linear(256, 256), nn.LeakyReLU(), \n",
    "                             nn.Linear(256, 2048), nn.Tanh())\n",
    "nett = lambda: nn.Sequential(nn.Linear(2048, 256), nn.LeakyReLU(), \n",
    "                             nn.Linear(256, 256), nn.LeakyReLU(), \n",
    "                             nn.Linear(256, 2048))\n",
    "\n",
    "\n",
    "class RealNVP(torch.nn.Module):\n",
    "    def __init__(self):\n",
    "        super(RealNVP, self).__init__()\n",
    "        # mask = torch.from_numpy(np.array([[0, 1, 1], [1, 0, 1], [1, 1, 0], \n",
    "        #                                   [0, 0, 1], [1, 0, 0], [0, 1, 0]] * 2).astype(np.float32))\n",
    "        # self.mask = nn.Parameter(mask, requires_grad=False)\n",
    "        self.t = torch.nn.ModuleList([nett() for _ in range(len(mask))])\n",
    "        self.s = torch.nn.ModuleList([nets() for _ in range(len(mask))])\n",
    "\n",
    "    def forward(self, z):\n",
    "        x = z\n",
    "        for i in range(len(self.t)):\n",
    "            # x_ = x * self.mask[i]\n",
    "            # s = self.s[i](x_) * (1 - self.mask[i])\n",
    "            # t = self.t[i](x_) * (1 - self.mask[i])\n",
    "            # x = x_ + (1 - self.mask[i]) * (x * torch.exp(s) + t)\n",
    "            x_ = x\n",
    "            s = self.s[i](x_)\n",
    "            t = self.t[i](x_)\n",
    "            x = x_ + (x * torch.exp(s) + t)\n",
    "        return x\n",
    "\n",
    "    def reverse(self, x):\n",
    "        log_det_J, z = x.new_zeros(x.shape[0]), x\n",
    "        for i in reversed(range(len(self.t))):\n",
    "            # z_ = self.mask[i] * z\n",
    "            # s = self.s[i](z_) * (1 - self.mask[i])\n",
    "            # t = self.t[i](z_) * (1 - self.mask[i])\n",
    "            # z = (1 - self.mask[i]) * (z - t) * torch.exp(-s) + z_\n",
    "            z_ = z\n",
    "            s = self.s[i](z_) \n",
    "            t = self.t[i](z_) \n",
    "            z = (z - t) * torch.exp(-s) + z_\n",
    "            log_det_J -= s.sum(dim=1)\n",
    "            \n",
    "        return z, log_det_J"
   ]
  },
  {
   "cell_type": "code",
   "execution_count": null,
   "metadata": {},
   "outputs": [],
   "source": [
    "# funtion to train the flow\n",
    "\n",
    "def train_flow(flow, latent_distr, target_distr, batch_size, epochs, optimizer, save_as, best_loss = np.inf):\n",
    "    avg_loss = 0\n",
    "    flow.train()\n",
    "    with tqdm(total=epochs) as progress_bar:\n",
    "        for epoch in range(epochs):\n",
    "            # samples = target_distr.sample(batch_size)\n",
    "            samples = target_distr.sample(batch_size).to(device)\n",
    "            z, log_det = flow.reverse(samples)\n",
    "            log_prob = latent_distr.log_prob(z)\n",
    "            loss = -(log_det.mean() + log_prob.mean())\n",
    "            flow.zero_grad()\n",
    "            loss.backward()\n",
    "            optimizer.step()\n",
    "            avg_loss = moving_avg(avg_loss, loss, epoch + 1).item()\n",
    "            progress_bar.set_postfix(loss=avg_loss)\n",
    "            progress_bar.update(1)\n",
    "\n",
    "            if (epoch+1)%100==0:\n",
    "                flow.eval()\n",
    "                avg_loss_val = 0\n",
    "                for epoch_val in range(100):\n",
    "                    # samples = target_distr.sample(batch_size)\n",
    "                    samples = target_distr.sample(batch_size).to(device)\n",
    "                    z, log_det = flow.reverse(samples)\n",
    "                    log_prob = latent_distr.log_prob(z)\n",
    "                    loss = -(log_det.mean() + log_prob.mean())\n",
    "                    avg_loss_val = moving_avg(avg_loss_val, loss, epoch_val + 1).item()\n",
    "\n",
    "                if avg_loss_val<best_loss:\n",
    "                    best_loss=avg_loss_val\n",
    "                    torch.save(flow, save_as)\n",
    "                flow.train()\n",
    "                    \n",
    "    flow.eval()\n",
    "    avg_loss = 0\n",
    "    with tqdm(total=100) as progress_bar:\n",
    "        for epoch in range(100):\n",
    "            # samples = target_distr.sample(batch_size)\n",
    "            samples = target_distr.sample(batch_size).to(device)\n",
    "            z, log_det = flow.reverse(samples)\n",
    "            log_prob = latent_distr.log_prob(z)\n",
    "            loss = -(log_det.mean() + log_prob.mean())\n",
    "            avg_loss = moving_avg(avg_loss, loss, epoch + 1).item()\n",
    "            progress_bar.set_postfix(loss=avg_loss)\n",
    "            progress_bar.update(1)\n",
    "\n",
    "    return 1\n",
    "\n",
    "def moving_avg(current_avg, new_value, idx):\n",
    "    return current_avg + (new_value - current_avg) / idx"
   ]
  }
 ],
 "metadata": {
  "kernelspec": {
   "display_name": "ttsxai",
   "language": "python",
   "name": "python3"
  },
  "language_info": {
   "codemirror_mode": {
    "name": "ipython",
    "version": 3
   },
   "file_extension": ".py",
   "mimetype": "text/x-python",
   "name": "python",
   "nbconvert_exporter": "python",
   "pygments_lexer": "ipython3",
   "version": "3.7.13"
  }
 },
 "nbformat": 4,
 "nbformat_minor": 2
}
