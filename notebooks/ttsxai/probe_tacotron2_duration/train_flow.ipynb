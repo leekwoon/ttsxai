{
 "cells": [
  {
   "cell_type": "code",
   "execution_count": 1,
   "metadata": {},
   "outputs": [],
   "source": [
    "# some imports and plot definitions\n",
    "\n",
    "import torch\n",
    "import numpy as np\n",
    "import scipy\n",
    "import os\n",
    "from tqdm import tqdm\n",
    "from scipy.optimize import NonlinearConstraint\n",
    "\n",
    "import torch.optim as optim\n",
    "import torch.nn as nn\n",
    "\n",
    "import matplotlib\n",
    "from matplotlib import pyplot as plt\n",
    "from matplotlib import rc\n",
    "\n",
    "rc('text', usetex=True)\n",
    "plt.rc('font', family='serif')\n",
    "\n",
    "plt.rcParams.update({\n",
    "    \"text.usetex\": False,\n",
    "    \"font.family\": \"serif\",\n",
    "    \"font.serif\": [\"Nimbus Roman\"],\n",
    "    \"mathtext.fontset\": \"cm\",\n",
    "    \"font.size\": 30,\n",
    "})\n",
    "\n",
    "label_font_size = 32\n",
    "title_font_size = 32\n",
    "\n",
    "# make directories\n",
    "directories = [\"models\", \"plots\", \"results\"]\n",
    "for d in directories:\n",
    "    if not os.path.exists(d):\n",
    "        os.makedirs(d)"
   ]
  }
 ],
 "metadata": {
  "kernelspec": {
   "display_name": "ttsxai",
   "language": "python",
   "name": "python3"
  },
  "language_info": {
   "codemirror_mode": {
    "name": "ipython",
    "version": 3
   },
   "file_extension": ".py",
   "mimetype": "text/x-python",
   "name": "python",
   "nbconvert_exporter": "python",
   "pygments_lexer": "ipython3",
   "version": "3.7.13"
  }
 },
 "nbformat": 4,
 "nbformat_minor": 2
}
