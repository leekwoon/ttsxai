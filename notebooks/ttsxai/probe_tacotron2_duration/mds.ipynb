{
 "cells": [
  {
   "cell_type": "code",
   "execution_count": 1,
   "metadata": {},
   "outputs": [],
   "source": [
    "import torch\n",
    "from sklearn.manifold import MDS\n",
    "from sklearn.metrics.pairwise import cosine_distances\n",
    "from sklearn.linear_model import LinearRegression\n",
    "\n",
    "# 가상의 embedding 데이터 생성 (예: 100개의 데이터 포인트, 각각 50차원)\n",
    "num_samples = 100\n",
    "embedding_dim = 50\n",
    "embeddings = torch.rand((num_samples, embedding_dim))\n",
    "\n",
    "# 1. MDS를 사용하여 차원 축소\n",
    "# 우선 cosine distance를 계산합니다.\n",
    "distance_matrix = cosine_distances(embeddings)\n",
    "\n",
    "# MDS를 이용해 2D 공간으로 차원을 축소합니다.\n",
    "mds = MDS(n_components=2, dissimilarity='precomputed')\n",
    "low_dim_embeddings = mds.fit_transform(distance_matrix)\n",
    "\n",
    "# 2. Projection matrix는 MDS에 의해 내부적으로 처리됩니다. \n",
    "# MDS는 원래 공간과 축소된 공간 사이의 거리를 보존하려고 노력하므로 \n",
    "# 명시적인 projection matrix를 제공하지 않습니다.\n",
    "\n",
    "# 3. 각 acoustic feature에 대해 multi-linear regression을 사용하여 approximation\n",
    "# 예를 들어, 우리가 가지고 있는 acoustic feature가 phone duration이라고 가정합니다.\n",
    "phone_durations = torch.rand(num_samples)  # 가상의 phone duration 데이터\n",
    "\n",
    "# MDS로 얻은 low_dim_embeddings를 사용하여 regression 모델 학습\n",
    "model = LinearRegression()\n",
    "model.fit(low_dim_embeddings, phone_durations)\n",
    "\n",
    "# 이제 이 model을 사용하여 low_dim_embeddings로부터 phone duration을 예측할 수 있습니다.\n",
    "predicted_durations = model.predict(low_dim_embeddings)"
   ]
  },
  {
   "cell_type": "code",
   "execution_count": 7,
   "metadata": {},
   "outputs": [
    {
     "ename": "AttributeError",
     "evalue": "'MDS' object has no attribute 'transform'",
     "output_type": "error",
     "traceback": [
      "\u001b[0;31m---------------------------------------------------------------------------\u001b[0m",
      "\u001b[0;31mAttributeError\u001b[0m                            Traceback (most recent call last)",
      "\u001b[0;32m/tmp/ipykernel_18179/4098442639.py\u001b[0m in \u001b[0;36m<module>\u001b[0;34m\u001b[0m\n\u001b[0;32m----> 1\u001b[0;31m \u001b[0mmds\u001b[0m\u001b[0;34m.\u001b[0m\u001b[0mtransform\u001b[0m\u001b[0;34m\u001b[0m\u001b[0;34m\u001b[0m\u001b[0m\n\u001b[0m",
      "\u001b[0;31mAttributeError\u001b[0m: 'MDS' object has no attribute 'transform'"
     ]
    }
   ],
   "source": [
    "mds."
   ]
  },
  {
   "cell_type": "code",
   "execution_count": 6,
   "metadata": {},
   "outputs": [
    {
     "data": {
      "text/plain": [
       "torch.Size([100, 50])"
      ]
     },
     "execution_count": 6,
     "metadata": {},
     "output_type": "execute_result"
    }
   ],
   "source": [
    "embeddings.shape"
   ]
  },
  {
   "cell_type": "code",
   "execution_count": 4,
   "metadata": {},
   "outputs": [
    {
     "data": {
      "text/plain": [
       "(100, 2)"
      ]
     },
     "execution_count": 4,
     "metadata": {},
     "output_type": "execute_result"
    }
   ],
   "source": [
    "low_dim_embeddings.shape"
   ]
  }
 ],
 "metadata": {
  "kernelspec": {
   "display_name": "ttsxai",
   "language": "python",
   "name": "python3"
  },
  "language_info": {
   "codemirror_mode": {
    "name": "ipython",
    "version": 3
   },
   "file_extension": ".py",
   "mimetype": "text/x-python",
   "name": "python",
   "nbconvert_exporter": "python",
   "pygments_lexer": "ipython3",
   "version": "3.7.13"
  }
 },
 "nbformat": 4,
 "nbformat_minor": 2
}
