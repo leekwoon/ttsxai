{
 "cells": [
  {
   "cell_type": "code",
   "execution_count": 2,
   "metadata": {},
   "outputs": [],
   "source": [
    "from ttsxai.utils import jupyter_utils\n",
    "# To enable the always_reload feature\n",
    "jupyter_utils.register_always_reload(packages=['ttsxai.datasets'])"
   ]
  },
  {
   "cell_type": "code",
   "execution_count": 3,
   "metadata": {},
   "outputs": [],
   "source": [
    "from ttsxai.datasets.aligner_dataset import AlignerDataset"
   ]
  }
 ],
 "metadata": {
  "kernelspec": {
   "display_name": "ttsxai",
   "language": "python",
   "name": "python3"
  },
  "language_info": {
   "codemirror_mode": {
    "name": "ipython",
    "version": 3
   },
   "file_extension": ".py",
   "mimetype": "text/x-python",
   "name": "python",
   "nbconvert_exporter": "python",
   "pygments_lexer": "ipython3",
   "version": "3.8.18"
  }
 },
 "nbformat": 4,
 "nbformat_minor": 2
}
